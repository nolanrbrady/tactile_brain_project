{
 "cells": [
  {
   "cell_type": "code",
   "execution_count": null,
   "id": "c06e3794-7e76-4bff-bb62-c180f3a101fd",
   "metadata": {},
   "outputs": [],
   "source": [
    "import mne\n",
    "import numpy as np\n",
    "import pandas as pd\n",
    "from mne.preprocessing.nirs import beer_lambert_law\n",
    "from mne.preprocessing.nirs import optical_density\n",
    "from sklearn.preprocessing import MinMaxScaler\n",
    "import sched, time"
   ]
  },
  {
   "cell_type": "code",
   "execution_count": null,
   "id": "a059d0c5-b536-4b98-9040-aa694f5af7d1",
   "metadata": {},
   "outputs": [],
   "source": [
    "snirf_path = './task/2023-06-08_004.snirf'\n",
    "raw_intensity = mne.io.read_raw_snirf(snirf_path, verbose=True, preload=False)\n",
    "\n",
    "# resample to one Hz\n",
    "raw_intensity.load_data().resample(1.0, npad=\"auto\")"
   ]
  },
  {
   "cell_type": "code",
   "execution_count": null,
   "id": "718b20e1-f3eb-4fd3-bc65-6c5b2c13860b",
   "metadata": {},
   "outputs": [],
   "source": [
    "# Define the motor unit to channel mapping\n",
    "mu_0 = ['S5_D3 hbo', 'S5_D6 hbo']\n",
    "mu_1 = ['S8_D6 hbo']\n",
    "mu_2 = ['S8_D6 hbo']\n",
    "mu_3 = ['S6_D5 hbo', 'S7_D5 hbo', 'S6_D7 hbo', 'S7_D4 hbo']\n",
    "mu_4 = ['S6_D5 hbo', 'S7_D5 hbo', 'S6_D7 hbo', 'S7_D4 hbo']\n",
    "mu_12 = ['S3_D1 hbo', 'S3_D2 hbo', 'S4_D2 hbo', 'S1_D1 hbo', 'S1_D2 hbo']\n",
    "mu_13 = ['S3_D1 hbo', 'S3_D2 hbo', 'S4_D2 hbo', 'S1_D1 hbo', 'S1_D2 hbo']\n",
    "mu_14 = ['S2_D3 hbo']\n",
    "mu_15 = ['S5_D3 hbo', 'S2_D3 hbo']\n"
   ]
  },
  {
   "cell_type": "code",
   "execution_count": null,
   "id": "98c1177e",
   "metadata": {},
   "outputs": [],
   "source": []
  },
  {
   "cell_type": "code",
   "execution_count": null,
   "id": "59810e5e-c08e-4aec-9ef7-a9e25201d06e",
   "metadata": {},
   "outputs": [],
   "source": [
    "raw_od = optical_density(raw_intensity)\n",
    "raw_haemo = beer_lambert_law(raw_od, ppf=0.1)\n",
    "ch_names = raw_haemo.info['ch_names']\n",
    "# ch_names = ['0'] + ch_names\n",
    "\n",
    "# Converts the snirf data into a CSV\n",
    "data = pd.DataFrame(raw_haemo.get_data())\n",
    "\n",
    "#Normalize the data\n",
    "np_data = data.to_numpy()\n",
    "scaler = MinMaxScaler(feature_range=(0, 100))\n",
    "norm_data = scaler.fit_transform(np_data)\n",
    "df = pd.DataFrame(norm_data)\n",
    "\n",
    "# Add the channel names\n",
    "df.insert(0, 'ch_names', ch_names)\n",
    "df.to_csv('hemo_data.csv')\n"
   ]
  },
  {
   "cell_type": "code",
   "execution_count": 56,
   "id": "03f9dfa4",
   "metadata": {},
   "outputs": [],
   "source": [
    "\n",
    "# Run through the dataframe and ouput to motor units\n",
    "starttime = time.time()\n",
    "print(starttime)\n",
    "while True:\n",
    "    # print(\"tick\")\n",
    "    time.sleep(60.0 - ((time.time() - starttime) % 60.0))\n",
    "    print('tick')\n"
   ]
  },
  {
   "cell_type": "code",
   "execution_count": null,
   "id": "444a6db4-75a2-4115-8a8c-c944f53e1b3f",
   "metadata": {},
   "outputs": [],
   "source": []
  }
 ],
 "metadata": {
  "kernelspec": {
   "display_name": "Python 3 (ipykernel)",
   "language": "python",
   "name": "python3"
  },
  "language_info": {
   "codemirror_mode": {
    "name": "ipython",
    "version": 3
   },
   "file_extension": ".py",
   "mimetype": "text/x-python",
   "name": "python",
   "nbconvert_exporter": "python",
   "pygments_lexer": "ipython3",
   "version": "3.9.13"
  }
 },
 "nbformat": 4,
 "nbformat_minor": 5
}
