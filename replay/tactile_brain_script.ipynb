{
 "cells": [
  {
   "cell_type": "code",
   "execution_count": 104,
   "id": "c06e3794-7e76-4bff-bb62-c180f3a101fd",
   "metadata": {},
   "outputs": [],
   "source": [
    "import mne\n",
    "import numpy as np\n",
    "import pandas as pd\n",
    "from mne.preprocessing.nirs import beer_lambert_law\n",
    "from mne.preprocessing.nirs import optical_density\n",
    "from sklearn.preprocessing import MinMaxScaler\n",
    "import sched, time, socket, struct"
   ]
  },
  {
   "cell_type": "code",
   "execution_count": 97,
   "id": "a059d0c5-b536-4b98-9040-aa694f5af7d1",
   "metadata": {},
   "outputs": [
    {
     "name": "stdout",
     "output_type": "stream",
     "text": [
      "Loading /Users/nolanbrady/Desktop/Tactile_Brain/replay/task/2023-06-08_004.snirf\n",
      "Reading 0 ... 4271  =      0.000 ...   419.839 secs...\n"
     ]
    },
    {
     "data": {
      "text/html": [
       "<table class=\"table table-hover table-striped table-sm table-responsive small\">\n",
       "    <tr>\n",
       "        <th>Measurement date</th>\n",
       "        \n",
       "        <td>June 08, 2023  14:18:38 GMT</td>\n",
       "        \n",
       "    </tr>\n",
       "    <tr>\n",
       "        <th>Experimenter</th>\n",
       "        \n",
       "        <td>Unknown</td>\n",
       "        \n",
       "    </tr>\n",
       "        <th>Participant</th>\n",
       "        \n",
       "            \n",
       "        \n",
       "    </tr>\n",
       "    <tr>\n",
       "        <th>Digitized points</th>\n",
       "        \n",
       "        <td>300 points</td>\n",
       "        \n",
       "    </tr>\n",
       "    <tr>\n",
       "        <th>Good channels</th>\n",
       "        <td>28 fNIRS (CW amplitude)</td>\n",
       "    </tr>\n",
       "    <tr>\n",
       "        <th>Bad channels</th>\n",
       "        <td>None</td>\n",
       "    </tr>\n",
       "    <tr>\n",
       "        <th>EOG channels</th>\n",
       "        <td>Not available</td>\n",
       "    </tr>\n",
       "    <tr>\n",
       "        <th>ECG channels</th>\n",
       "        <td>Not available</td>\n",
       "    \n",
       "    <tr>\n",
       "        <th>Sampling frequency</th>\n",
       "        <td>1.00 Hz</td>\n",
       "    </tr>\n",
       "    \n",
       "    \n",
       "    <tr>\n",
       "        <th>Highpass</th>\n",
       "        <td>0.00 Hz</td>\n",
       "    </tr>\n",
       "    \n",
       "    \n",
       "    <tr>\n",
       "        <th>Lowpass</th>\n",
       "        <td>0.50 Hz</td>\n",
       "    </tr>\n",
       "    \n",
       "    \n",
       "    \n",
       "    <tr>\n",
       "        <th>Filenames</th>\n",
       "        <td>2023-06-08_004.snirf</td>\n",
       "    </tr>\n",
       "    \n",
       "    <tr>\n",
       "        <th>Duration</th>\n",
       "        <td>00:06:59 (HH:MM:SS)</td>\n",
       "    </tr>\n",
       "</table>"
      ],
      "text/plain": [
       "<RawSNIRF | 2023-06-08_004.snirf, 28 x 420 (419.0 s), ~244 kB, data loaded>"
      ]
     },
     "execution_count": 97,
     "metadata": {},
     "output_type": "execute_result"
    }
   ],
   "source": [
    "snirf_path = './task/2023-06-08_004.snirf'\n",
    "sampling_freq = 0.5\n",
    "raw_intensity = mne.io.read_raw_snirf(snirf_path, verbose=True, preload=False)\n",
    "\n",
    "# resample to one Hz\n",
    "raw_intensity.load_data().resample(sampling_freq, npad=\"auto\")"
   ]
  },
  {
   "cell_type": "code",
   "execution_count": 98,
   "id": "718b20e1-f3eb-4fd3-bc65-6c5b2c13860b",
   "metadata": {},
   "outputs": [],
   "source": [
    "# Define the motor unit to channel mapping\n",
    "mu_0 = ['S5_D3 hbo', 'S5_D6 hbo']\n",
    "mu_1 = ['S8_D6 hbo']\n",
    "mu_2 = ['S8_D6 hbo']\n",
    "mu_3 = ['S6_D5 hbo', 'S7_D5 hbo', 'S6_D7 hbo', 'S7_D4 hbo']\n",
    "mu_4 = ['S6_D5 hbo', 'S7_D5 hbo', 'S6_D7 hbo', 'S7_D4 hbo']\n",
    "mu_12 = ['S3_D1 hbo', 'S3_D2 hbo', 'S4_D2 hbo', 'S1_D1 hbo', 'S1_D2 hbo']\n",
    "mu_13 = ['S3_D1 hbo', 'S3_D2 hbo', 'S4_D2 hbo', 'S1_D1 hbo', 'S1_D2 hbo']\n",
    "mu_14 = ['S2_D3 hbo']\n",
    "mu_15 = ['S5_D3 hbo', 'S2_D3 hbo']\n"
   ]
  },
  {
   "cell_type": "code",
   "execution_count": null,
   "id": "98c1177e",
   "metadata": {},
   "outputs": [],
   "source": []
  },
  {
   "cell_type": "code",
   "execution_count": 99,
   "id": "59810e5e-c08e-4aec-9ef7-a9e25201d06e",
   "metadata": {},
   "outputs": [],
   "source": [
    "raw_od = optical_density(raw_intensity)\n",
    "raw_haemo = beer_lambert_law(raw_od, ppf=0.1)\n",
    "ch_names = raw_haemo.info['ch_names']\n",
    "# ch_names = ['0'] + ch_names\n",
    "\n",
    "# Converts the snirf data into a CSV\n",
    "data = pd.DataFrame(raw_haemo.get_data())\n",
    "\n",
    "#Normalize the data\n",
    "np_data = data.to_numpy()\n",
    "scaler = MinMaxScaler(feature_range=(8, 40))\n",
    "norm_data = scaler.fit_transform(np_data)\n",
    "df = pd.DataFrame(norm_data)\n",
    "\n",
    "# Add the channel names\n",
    "df.insert(0, 'ch_names', ch_names)\n",
    "df.to_csv('hemo_data.csv')\n"
   ]
  },
  {
   "attachments": {},
   "cell_type": "markdown",
   "id": "699d324e",
   "metadata": {},
   "source": [
    "# Map channels to motor units"
   ]
  },
  {
   "cell_type": "code",
   "execution_count": 100,
   "id": "ef93a2a9",
   "metadata": {},
   "outputs": [
    {
     "name": "stdout",
     "output_type": "stream",
     "text": [
      "    ch_names          0          1          2          3          4  \\\n",
      "2  S2_D3 hbo  27.622909  18.961538  11.129621  14.829219  16.858263   \n",
      "\n",
      "           5         6          7          8  ...        410        411  \\\n",
      "2  15.155058  15.88577  14.925876  14.954636  ...  35.749459  36.351192   \n",
      "\n",
      "         412        413        414        415        416        417  \\\n",
      "2  35.976347  25.123485  28.585297  36.731698  35.153398  34.317768   \n",
      "\n",
      "         418        419  \n",
      "2  31.985443  31.676067  \n",
      "\n",
      "[1 rows x 421 columns]\n"
     ]
    }
   ],
   "source": [
    "\n",
    "# Motor unit 0\n",
    "mu_0_mask = df['ch_names'].isin(mu_0)\n",
    "mu_0_df = df[mu_0_mask]\n",
    "\n",
    "# Motor unit 1\n",
    "mu_1_mask = df['ch_names'].isin(mu_1)\n",
    "mu_1_df = df[mu_1_mask]\n",
    "\n",
    "# Motor Unit 2\n",
    "mu_2_mask = df['ch_names'].isin(mu_2)\n",
    "mu_2_df = df[mu_2_mask]\n",
    "\n",
    "# Motor Unit 3\n",
    "mu_3_mask = df['ch_names'].isin(mu_3)\n",
    "mu_3_df = df[mu_3_mask]\n",
    "\n",
    "# Motor Unit 4\n",
    "mu_4_mask = df['ch_names'].isin(mu_4)\n",
    "mu_4_df = df[mu_4_mask]\n",
    "\n",
    "# Motor Unit 12\n",
    "mu_12_mask = df['ch_names'].isin(mu_12)\n",
    "mu_12_df = df[mu_12_mask]\n",
    "\n",
    "# Motor Unit 13\n",
    "mu_13_mask = df['ch_names'].isin(mu_13)\n",
    "mu_13_df = df[mu_13_mask]\n",
    "\n",
    "# Motor Unit 14\n",
    "mu_14_mask = df['ch_names'].isin(mu_14)\n",
    "mu_14_df = df[mu_14_mask]\n",
    "\n",
    "# Motor Unit 15\n",
    "mu_15_mask = df['ch_names'].isin(mu_15)\n",
    "mu_15_df = df[mu_15_mask]\n",
    "\n",
    "print(mu_14_df)"
   ]
  },
  {
   "cell_type": "code",
   "execution_count": 106,
   "id": "03f9dfa4",
   "metadata": {},
   "outputs": [
    {
     "name": "stdout",
     "output_type": "stream",
     "text": [
      "tick\n",
      "tick\n",
      "tick\n",
      "tick\n",
      "tick\n",
      "tick\n",
      "tick\n",
      "tick\n",
      "tick\n",
      "tick\n",
      "tick\n",
      "tick\n"
     ]
    },
    {
     "ename": "KeyboardInterrupt",
     "evalue": "",
     "output_type": "error",
     "traceback": [
      "\u001b[0;31m---------------------------------------------------------------------------\u001b[0m",
      "\u001b[0;31mKeyboardInterrupt\u001b[0m                         Traceback (most recent call last)",
      "\u001b[0;32m/var/folders/f_/0f3gmdgs0db0f5gf8gg2874c0000gn/T/ipykernel_84088/2901375647.py\u001b[0m in \u001b[0;36m<module>\u001b[0;34m\u001b[0m\n\u001b[1;32m     30\u001b[0m         \u001b[0msock\u001b[0m\u001b[0;34m.\u001b[0m\u001b[0msendto\u001b[0m\u001b[0;34m(\u001b[0m\u001b[0mMESSAGE\u001b[0m\u001b[0;34m,\u001b[0m \u001b[0;34m(\u001b[0m\u001b[0mUDP_IP\u001b[0m\u001b[0;34m,\u001b[0m \u001b[0mUDP_PORT\u001b[0m\u001b[0;34m)\u001b[0m\u001b[0;34m)\u001b[0m\u001b[0;34m\u001b[0m\u001b[0;34m\u001b[0m\u001b[0m\n\u001b[1;32m     31\u001b[0m \u001b[0;34m\u001b[0m\u001b[0m\n\u001b[0;32m---> 32\u001b[0;31m     \u001b[0mtime\u001b[0m\u001b[0;34m.\u001b[0m\u001b[0msleep\u001b[0m\u001b[0;34m(\u001b[0m\u001b[0;36m1\u001b[0m\u001b[0;34m)\u001b[0m\u001b[0;34m\u001b[0m\u001b[0;34m\u001b[0m\u001b[0m\n\u001b[0m",
      "\u001b[0;31mKeyboardInterrupt\u001b[0m: "
     ]
    }
   ],
   "source": [
    "UDP_IP = \"192.168.4.1\"\n",
    "UDP_PORT = 80\n",
    "\n",
    "\n",
    "# Run through the dataframe and ouput to motor units\n",
    "for id, column in enumerate(df):\n",
    "    print('tick')\n",
    "    mu_0_mean = mu_0_df[id].mean()\n",
    "    mu_1_mean = mu_1_df[id].mean()\n",
    "    mu_2_mean = mu_2_df[id].mean()\n",
    "    mu_3_mean = mu_3_df[id].mean()\n",
    "    mu_4_mean = mu_4_df[id].mean()\n",
    "    mu_12_mean = mu_12_df[id].mean()\n",
    "    mu_13_mean = mu_13_df[id].mean()\n",
    "    mu_14_mean = mu_14_df[id].mean()\n",
    "    mu_15_mean = mu_15_df[id].mean()\n",
    "\n",
    "    packet = np.array([mu_0_mean, mu_1_mean, mu_2_mean, mu_3_mean, mu_4_mean, 8, 8, 8, 8, 8, 8, 8, mu_12_mean, mu_13_mean, mu_14_mean, mu_15_mean])\n",
    "    # MESSAGE = packet.tobytes()\n",
    "    MESSAGE = packet\n",
    "    for intensity in packet:\n",
    "\n",
    "        # Convert the float64 value to bytes\n",
    "        MESSAGE = struct.pack('d', intensity)\n",
    "\n",
    "        # Send the packet to the Arduino\n",
    "        # NOTE: Make sure you are connected to the \"DrivingVibe-Board2 Wifi\n",
    "        # Wifi password: 55555555\n",
    "        sock = socket.socket(socket.AF_INET, socket.SOCK_DGRAM)\n",
    "        sock.sendto(MESSAGE, (UDP_IP, UDP_PORT))\n",
    "\n",
    "    time.sleep(sampling_freq)"
   ]
  },
  {
   "cell_type": "code",
   "execution_count": null,
   "id": "444a6db4-75a2-4115-8a8c-c944f53e1b3f",
   "metadata": {},
   "outputs": [],
   "source": []
  }
 ],
 "metadata": {
  "kernelspec": {
   "display_name": "Python 3 (ipykernel)",
   "language": "python",
   "name": "python3"
  },
  "language_info": {
   "codemirror_mode": {
    "name": "ipython",
    "version": 3
   },
   "file_extension": ".py",
   "mimetype": "text/x-python",
   "name": "python",
   "nbconvert_exporter": "python",
   "pygments_lexer": "ipython3",
   "version": "3.9.13"
  }
 },
 "nbformat": 4,
 "nbformat_minor": 5
}
