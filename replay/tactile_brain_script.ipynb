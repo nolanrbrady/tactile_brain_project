{
 "cells": [
  {
   "cell_type": "code",
   "execution_count": 2,
   "id": "c06e3794-7e76-4bff-bb62-c180f3a101fd",
   "metadata": {},
   "outputs": [],
   "source": [
    "import mne\n",
    "import numpy as np\n",
    "import pandas as pd"
   ]
  },
  {
   "cell_type": "code",
   "execution_count": 3,
   "id": "a059d0c5-b536-4b98-9040-aa694f5af7d1",
   "metadata": {},
   "outputs": [
    {
     "name": "stdout",
     "output_type": "stream",
     "text": [
      "Loading /Users/acalin/Desktop/sub-01/nirs/2023-03-24_003.snirf\n"
     ]
    }
   ],
   "source": [
    "snirf_path = './nirs/2023-03-24_003.snirf'\n",
    "raw_intensity = mne.io.read_raw_snirf(snirf_path, verbose=True, preload=False)"
   ]
  },
  {
   "cell_type": "code",
   "execution_count": 9,
   "id": "718b20e1-f3eb-4fd3-bc65-6c5b2c13860b",
   "metadata": {},
   "outputs": [
    {
     "name": "stdout",
     "output_type": "stream",
     "text": [
      "<RawSNIRF | 2023-03-24_003.snirf, 40 x 5001 (491.5 s), ~165 kB, data not loaded>\n"
     ]
    }
   ],
   "source": [
    "print(raw_intensity)"
   ]
  },
  {
   "cell_type": "code",
   "execution_count": 11,
   "id": "59810e5e-c08e-4aec-9ef7-a9e25201d06e",
   "metadata": {},
   "outputs": [
    {
     "ename": "NameError",
     "evalue": "name 'raw_haemo' is not defined",
     "output_type": "error",
     "traceback": [
      "\u001b[0;31m---------------------------------------------------------------------------\u001b[0m",
      "\u001b[0;31mNameError\u001b[0m                                 Traceback (most recent call last)",
      "Cell \u001b[0;32mIn[11], line 2\u001b[0m\n\u001b[1;32m      1\u001b[0m \u001b[38;5;66;03m# Converts the snirf data into a CSV\u001b[39;00m\n\u001b[0;32m----> 2\u001b[0m data \u001b[38;5;241m=\u001b[39m pd\u001b[38;5;241m.\u001b[39mDataFrame(\u001b[43mraw_haemo\u001b[49m\u001b[38;5;241m.\u001b[39mget_data())\n\u001b[1;32m      3\u001b[0m data\u001b[38;5;241m.\u001b[39mto_csv(\u001b[38;5;124m'\u001b[39m\u001b[38;5;124mhemo_data.csv\u001b[39m\u001b[38;5;124m'\u001b[39m)\n",
      "\u001b[0;31mNameError\u001b[0m: name 'raw_haemo' is not defined"
     ]
    }
   ],
   "source": [
    "# Converts the snirf data into a CSV\n",
    "data = pd.DataFrame(raw_haemo.get_data())\n",
    "data.to_csv('hemo_data.csv')"
   ]
  },
  {
   "cell_type": "code",
   "execution_count": null,
   "id": "444a6db4-75a2-4115-8a8c-c944f53e1b3f",
   "metadata": {},
   "outputs": [],
   "source": []
  }
 ],
 "metadata": {
  "kernelspec": {
   "display_name": "Python 3 (ipykernel)",
   "language": "python",
   "name": "python3"
  },
  "language_info": {
   "codemirror_mode": {
    "name": "ipython",
    "version": 3
   },
   "file_extension": ".py",
   "mimetype": "text/x-python",
   "name": "python",
   "nbconvert_exporter": "python",
   "pygments_lexer": "ipython3",
   "version": "3.10.9"
  }
 },
 "nbformat": 4,
 "nbformat_minor": 5
}
